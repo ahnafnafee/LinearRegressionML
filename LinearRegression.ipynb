{
 "metadata": {
  "language_info": {
   "codemirror_mode": {
    "name": "ipython",
    "version": 3
   },
   "file_extension": ".py",
   "mimetype": "text/x-python",
   "name": "python",
   "nbconvert_exporter": "python",
   "pygments_lexer": "ipython3",
   "version": "3.9.1-final"
  },
  "orig_nbformat": 2,
  "kernelspec": {
   "name": "python3",
   "display_name": "Python 3.9.1 64-bit",
   "metadata": {
    "interpreter": {
     "hash": "06bd6e6bb8b1a59ff9a8fa9390517002ce8a147f96d75124d9423e09c7a6bc86"
    }
   }
  }
 },
 "nbformat": 4,
 "nbformat_minor": 2,
 "cells": [
  {
   "cell_type": "code",
   "execution_count": 2,
   "metadata": {},
   "outputs": [],
   "source": [
    "### Q1"
   ]
  },
  {
   "cell_type": "code",
   "execution_count": 123,
   "metadata": {},
   "outputs": [
    {
     "output_type": "error",
     "ename": "NameError",
     "evalue": "name 'numpy' is not defined",
     "traceback": [
      "\u001b[1;31m---------------------------------------------------------------------------\u001b[0m",
      "\u001b[1;31mNameError\u001b[0m                                 Traceback (most recent call last)",
      "\u001b[1;32m<ipython-input-123-95296edc3518>\u001b[0m in \u001b[0;36m<module>\u001b[1;34m\u001b[0m\n\u001b[0;32m     24\u001b[0m \u001b[1;31m# print(w[0],w[1])\u001b[0m\u001b[1;33m\u001b[0m\u001b[1;33m\u001b[0m\u001b[1;33m\u001b[0m\u001b[0m\n\u001b[0;32m     25\u001b[0m \u001b[1;33m\u001b[0m\u001b[0m\n\u001b[1;32m---> 26\u001b[1;33m \u001b[0mY\u001b[0m \u001b[1;33m=\u001b[0m \u001b[0mnumpy\u001b[0m\u001b[1;33m.\u001b[0m\u001b[0mzeros\u001b[0m\u001b[1;33m(\u001b[0m\u001b[0mshape\u001b[0m\u001b[1;33m=\u001b[0m\u001b[1;33m(\u001b[0m\u001b[1;36m10\u001b[0m\u001b[1;33m,\u001b[0m\u001b[1;36m0\u001b[0m\u001b[1;33m)\u001b[0m\u001b[1;33m)\u001b[0m\u001b[1;33m\u001b[0m\u001b[1;33m\u001b[0m\u001b[0m\n\u001b[0m\u001b[0;32m     27\u001b[0m \u001b[0mprint\u001b[0m\u001b[1;33m(\u001b[0m\u001b[0mY\u001b[0m\u001b[1;33m)\u001b[0m\u001b[1;33m\u001b[0m\u001b[1;33m\u001b[0m\u001b[0m\n\u001b[0;32m     28\u001b[0m \u001b[1;33m\u001b[0m\u001b[0m\n",
      "\u001b[1;31mNameError\u001b[0m: name 'numpy' is not defined"
     ]
    }
   ],
   "source": [
    "import numpy as np\n",
    "import math\n",
    "import operator\n",
    "from scipy.linalg import svd\n",
    "import scipy.stats as ss\n",
    "import matplotlib.pyplot as plt\n",
    "import scipy.linalg as la\n",
    "\n",
    "x = np.array([[-2], [-5], [-3], [0], [-8], [-2], [1], [5], [-1], [6]])\n",
    "y = np.array([[1], [-4], [1], [3], [11], [5], [0], [-1], [-3], [1]])\n",
    "\n",
    "\n",
    "X = np.array([[1,-2], [1,-5], [1,-3], [1,0], [1,-8], [1,-2], [1,1], [1,5], [1,-1], [1,6]])\n",
    "\n",
    "# print(X)\n",
    "# print(X.T)\n",
    "dotX = np.dot(X.T,X)\n",
    "\n",
    "dotY = np.dot(X.T,y)\n",
    "\n",
    "dotZ = 0.1*np.linalg.inv(dotX)\n",
    "\n",
    "w = np.dot(dotZ, dotY)\n",
    "# print(w[0],w[1])\n",
    "\n",
    "Y = np.zeros(shape=(10,0))\n",
    "print(Y)\n",
    "\n",
    "for j in range(len(y)):\n",
    "    print(w[1]*x[j] + w[0])\n",
    "\n",
    "def rmse(predictions, targets):\n",
    "    return np.sqrt(((predictions - targets) ** 2).mean())\n",
    "\n",
    "# def lse(x, y):\n",
    "#     \"\"\"Calucalte coefficients using least squares estimate\"\"\"\n",
    "#     n = len(x)\n",
    "\n",
    "#     # Calculating mean\n",
    "#     x_mean = np.mean(x, axis=0)\n",
    "#     y_mean = np.mean(y, axis=0)\n",
    "\n",
    "#     num = 0\n",
    "#     den = 0\n",
    "\n",
    "#     for i in range(n):\n",
    "#         num += (x[i] - x_mean) * (y[i] - y_mean)\n",
    "#         den += (x[i] - x_mean)**2\n",
    "\n",
    "#     w = num / den\n",
    "#     b = y_mean - (w * x_mean)\n",
    "#     return w, b\n",
    "\n",
    "# w, b = lse(x,y)\n",
    "\n",
    "# print(\"Gradient: {0}, Intersection: {1}\".format(w[0], b[0]))\n",
    "\n",
    "# max_x = np.max(x) + 100\n",
    "# min_x = np.min(x) - 100\n",
    "\n",
    "# x_ln = np.linspace(min_x, max_x, 1000)\n",
    "# y_ln = b + w * x_ln\n",
    "\n",
    "# plt.plot(x_ln, y_ln, color='#58b970', label='Regression Line')\n",
    "\n",
    "# plt.scatter(x, y, c='#ef5423', label='Scatter Plot')\n",
    "# plt.xlabel('X')\n",
    "# plt.ylabel('Y')\n",
    "# plt.legend()\n",
    "# plt.show()\n",
    "\n"
   ]
  },
  {
   "cell_type": "code",
   "execution_count": 119,
   "metadata": {},
   "outputs": [],
   "source": [
    "### Q2"
   ]
  },
  {
   "cell_type": "code",
   "execution_count": 120,
   "metadata": {},
   "outputs": [],
   "source": [
    "# to do"
   ]
  },
  {
   "cell_type": "code",
   "execution_count": 121,
   "metadata": {},
   "outputs": [],
   "source": [
    "### Q3"
   ]
  },
  {
   "cell_type": "code",
   "execution_count": 122,
   "metadata": {},
   "outputs": [
    {
     "output_type": "stream",
     "name": "stdout",
     "text": [
      "(1338, 6) (1338, 1)\n(1338, 6)\n(892, 6)\n(446, 6)\n"
     ]
    }
   ],
   "source": [
    "import cv2\n",
    "from cv2 import VideoWriter, VideoWriter_fourcc\n",
    "from mpl_toolkits.mplot3d import Axes3D\n",
    "import matplotlib.cm as cm\n",
    "from collections import Counter\n",
    "import glob\n",
    "from matplotlib.image import imread\n",
    "\n",
    "\n",
    "np.random.seed(0)\n",
    "imp_data = np.genfromtxt('insurance.csv', delimiter=',', encoding='utf8', dtype=np.str)\n",
    "# dataN = data.astype(np.float)\n",
    "\n",
    "# Separates header and data\n",
    "feature_name, data = np.vsplit(imp_data, [1])\n",
    "\n",
    "x, y = np.hsplit(data, [-1])\n",
    "\n",
    "n = len(x)\n",
    "print(x.shape, y.shape)\n",
    "\n",
    "# Rows shuffled\n",
    "np.random.shuffle(x)\n",
    "\n",
    "# Calculates array index for splitting\n",
    "spltIdx = int((2/3)*n)\n",
    "\n",
    "# Training-validation data split\n",
    "x_train, x_test = x[:spltIdx,:], x[spltIdx:,:]\n",
    "\n",
    "\n",
    "print(x.shape)\n",
    "print(x_train.shape)\n",
    "print(x_test.shape)"
   ]
  },
  {
   "cell_type": "code",
   "execution_count": null,
   "metadata": {},
   "outputs": [],
   "source": []
  }
 ]
}