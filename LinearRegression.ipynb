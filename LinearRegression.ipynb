{
 "metadata": {
  "language_info": {
   "codemirror_mode": {
    "name": "ipython",
    "version": 3
   },
   "file_extension": ".py",
   "mimetype": "text/x-python",
   "name": "python",
   "nbconvert_exporter": "python",
   "pygments_lexer": "ipython3",
   "version": "3.9.1-final"
  },
  "orig_nbformat": 2,
  "kernelspec": {
   "name": "python3",
   "display_name": "Python 3.9.1 64-bit",
   "metadata": {
    "interpreter": {
     "hash": "06bd6e6bb8b1a59ff9a8fa9390517002ce8a147f96d75124d9423e09c7a6bc86"
    }
   }
  }
 },
 "nbformat": 4,
 "nbformat_minor": 2,
 "cells": [
  {
   "source": [
    "# Linear Regression"
   ],
   "cell_type": "markdown",
   "metadata": {}
  },
  {
   "source": [
    "### Q1"
   ],
   "cell_type": "markdown",
   "metadata": {}
  },
  {
   "cell_type": "code",
   "execution_count": 149,
   "metadata": {},
   "outputs": [
    {
     "output_type": "stream",
     "name": "stdout",
     "text": [
      "Y_pred: \n [[ 1.85394655]\n [ 3.0919826 ]\n [ 2.26662523]\n [ 1.02858919]\n [ 4.33001865]\n [ 1.85394655]\n [ 0.6159105 ]\n [-1.03480423]\n [ 1.44126787]\n [-1.44748291]]\nRMSE:  3.7013259176662716\n"
     ]
    }
   ],
   "source": [
    "import numpy as np\n",
    "import math\n",
    "import operator\n",
    "from scipy.linalg import svd\n",
    "import scipy.stats as ss\n",
    "import matplotlib.pyplot as plt\n",
    "import scipy.linalg as la\n",
    "\n",
    "x = np.array([[-2], [-5], [-3], [0], [-8], [-2], [1], [5], [-1], [6]])\n",
    "y = np.array([[1], [-4], [1], [3], [11], [5], [0], [-1], [-3], [1]])\n",
    "\n",
    "def lse_1(x,y):\n",
    "    biasF = np.ones(((len(x)), 1))\n",
    "    X = np.hstack((biasF, x))\n",
    "\n",
    "    dotX = np.linalg.inv(np.dot(X.T,X))\n",
    "    dotY = np.dot(X.T,y)\n",
    "\n",
    "    w = np.dot(dotX, dotY)\n",
    "\n",
    "    return w\n",
    "    \n",
    "\n",
    "w = lse_1(x,y)\n",
    "\n",
    "Y = np.zeros(shape=(10,1))\n",
    "\n",
    "for j in range(len(y)):\n",
    "    Y[j] = (w[1]*x[j] + w[0])\n",
    "\n",
    "print(\"Y_pred: \\n\", Y)\n",
    "\n",
    "def rmse(predictions, targets):\n",
    "    return np.sqrt(np.mean((predictions-targets)**2))\n",
    "\n",
    "rootmean = rmse(Y, y)\n",
    "print(\"RMSE: \", rmse(Y, y))\n"
   ]
  },
  {
   "cell_type": "code",
   "execution_count": 150,
   "metadata": {},
   "outputs": [],
   "source": [
    "### Q2"
   ]
  },
  {
   "cell_type": "code",
   "execution_count": 151,
   "metadata": {},
   "outputs": [],
   "source": [
    "# to do"
   ]
  },
  {
   "source": [
    "### Q3"
   ],
   "cell_type": "markdown",
   "metadata": {}
  },
  {
   "cell_type": "code",
   "execution_count": 183,
   "metadata": {},
   "outputs": [
    {
     "output_type": "stream",
     "name": "stdout",
     "text": [
      "[['52' 'male' '30.2' '1' 'no' 'southwest']\n ['47' 'female' '29.37' '1' 'no' 'southeast']\n ['48' 'male' '40.565' '2' 'yes' 'northwest']\n ...\n ['49' 'male' '30.9' '0' 'yes' 'southwest']\n ['19' 'male' '34.8' '0' 'yes' 'southwest']\n ['58' 'male' '36.08' '0' 'no' 'southeast']]\n[[  43.28486778]\n [  26.2419698 ]\n [ 316.19111346]\n [  -5.82274963]\n [1785.2134203 ]\n [ 752.16256354]]\n"
     ]
    }
   ],
   "source": [
    "import cv2\n",
    "from cv2 import VideoWriter, VideoWriter_fourcc\n",
    "from mpl_toolkits.mplot3d import Axes3D\n",
    "import matplotlib.cm as cm\n",
    "from collections import Counter\n",
    "import glob\n",
    "from matplotlib.image import imread\n",
    "from enum import Enum\n",
    "\n",
    "\n",
    "class Sex(Enum):\n",
    "    male, female = range(2)\n",
    "\n",
    "class Smoker(Enum):\n",
    "    no, yes = range(2)\n",
    "    \n",
    "class Region(Enum):\n",
    "    southwest, southeast, northwest, northeast = range(4)\n",
    "\n",
    "\n",
    "np.random.seed(0)\n",
    "imp_data = np.genfromtxt('insurance.csv', delimiter=',', encoding='utf8', dtype=np.str)\n",
    "# dataN = data.astype(np.float)\n",
    "\n",
    "# Separates header and data\n",
    "feature_name, data = np.vsplit(imp_data, [1])\n",
    "\n",
    "x, y = np.hsplit(data, [-1])\n",
    "\n",
    "n = len(x)\n",
    "\n",
    "# Rows shuffled\n",
    "np.random.shuffle(x)\n",
    "\n",
    "# Calculates array index for splitting\n",
    "spltIdx = int((2/3)*n)\n",
    "\n",
    "# Training-validation data split\n",
    "x_train, x_test, y_train, y_test = x[:spltIdx,:], x[spltIdx:,:], y[:spltIdx,:], y[spltIdx:,:]\n",
    "\n",
    "print(x_train)\n",
    "\n",
    "def preprocessCat(dataMain):\n",
    "    '''Changes categorical features to enumerated ones'''\n",
    "\n",
    "    data = np.copy(dataMain)\n",
    "\n",
    "    for i in range(len(data)):\n",
    "        for s in Sex:\n",
    "            if s.name == data[i][1]:\n",
    "                data[i][1] = s.value\n",
    "                break\n",
    "        \n",
    "        for sm in Smoker:\n",
    "            if sm.name == data[i][4]:\n",
    "                data[i][4] = sm.value\n",
    "                break\n",
    "\n",
    "        for r in Region:\n",
    "            if r.name == data[i][5]:\n",
    "                data[i][5] = r.value\n",
    "                break\n",
    "\n",
    "    return data\n",
    "\n",
    "def lse(x,y, addBias):\n",
    "    '''Calculates weights using LSE'''\n",
    "\n",
    "    dataX = x.astype(np.float)\n",
    "    dataY = y.astype(np.float)\n",
    "\n",
    "    if addBias:\n",
    "        biasF = np.ones(((len(dataX)), 1))\n",
    "        X = np.hstack((biasF, dataX))\n",
    "    else:\n",
    "        X = np.array(dataX)\n",
    "\n",
    "\n",
    "    dotX = np.linalg.inv(np.dot(X.T,X))\n",
    "    dotY = np.dot(X.T,dataY)\n",
    "\n",
    "    w = np.dot(dotX, dotY)\n",
    "\n",
    "    return w\n",
    "\n",
    "\n",
    "\n",
    "def rmse(w, x, y):\n",
    "    '''Calculates RMSE'''\n",
    "\n",
    "    Y = np.zeros(shape=((len(y_train)),1))\n",
    "    for j in range(len(y_train)):\n",
    "        Y[j] =  w[1] * x[0] + w[2] * x[1] + w[3] * x[2] + w[4] * x[3] + w[5] * x[4] + w[0]\n",
    "    return np.sqrt(np.mean((predictions-targets)**2))\n",
    "\n",
    "# Change categorical features to enumerated ones (NO BIAS)\n",
    "x_t_preC = preprocessCat(x_train)\n",
    "w_t_preC = lse(x_t_preC, y_train, False)\n",
    "\n",
    "\n",
    "\n",
    "# for j in range(len(y_train)):\n",
    "#     Y[j] = w_t_preC[1]*x[j] + w[0])\n",
    "\n",
    "print(w_t_preC)\n",
    "\n",
    "\n"
   ]
  },
  {
   "cell_type": "code",
   "execution_count": null,
   "metadata": {},
   "outputs": [],
   "source": []
  }
 ]
}